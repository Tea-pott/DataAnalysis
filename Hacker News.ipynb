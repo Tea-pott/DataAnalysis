{
 "cells": [
  {
   "cell_type": "markdown",
   "id": "d4feb54e",
   "metadata": {},
   "source": [
    "# Hacker News Post Analysis\n",
    "\n",
    "1. Aim of this analysis is to compare the average number of comments on `Ask Posts` and `Show Posts`\n",
    "2. Check the hourly distribution of average number of comments on `Ask Posts`\n",
    "3. Ideas to dig deeper for better conclusions\n",
    "\n",
    "- Hacker News Posts data [source](https://www.kaggle.com/hacker-news/hacker-news-posts)\n"
   ]
  },
  {
   "cell_type": "code",
   "execution_count": 1,
   "id": "94df13c4",
   "metadata": {},
   "outputs": [],
   "source": [
    "def explore_data(dataset, start, end, row_column_count = False):\n",
    "\n",
    "    dataset_slice = dataset[start:end]\n",
    "    for row in dataset_slice:\n",
    "        print(row)\n",
    "        print('\\n')\n",
    "    if row_column_count:\n",
    "        print('Rows:    ',len(dataset))\n",
    "        print('Columns: ',len(dataset[0]))"
   ]
  },
  {
   "cell_type": "code",
   "execution_count": 2,
   "id": "0779ff9e",
   "metadata": {},
   "outputs": [
    {
     "name": "stdout",
     "output_type": "stream",
     "text": [
      "['id', 'title', 'url', 'num_points', 'num_comments', 'author', 'created_at']\n",
      "\n",
      "\n",
      "['12579008', 'You have two days to comment if you want stem cells to be classified as your own', 'http://www.regulations.gov/document?D=FDA-2015-D-3719-0018', '1', '0', 'altstar', '9/26/2016 3:26']\n",
      "\n",
      "\n",
      "['12579005', 'SQLAR  the SQLite Archiver', 'https://www.sqlite.org/sqlar/doc/trunk/README.md', '1', '0', 'blacksqr', '9/26/2016 3:24']\n",
      "\n",
      "\n",
      "['12578997', 'What if we just printed a flatscreen television on the side of our boxes?', 'https://medium.com/vanmoof/our-secrets-out-f21c1f03fdc8#.ietxmez43', '1', '0', 'pavel_lishin', '9/26/2016 3:19']\n",
      "\n",
      "\n",
      "['12578989', 'algorithmic music', 'http://cacm.acm.org/magazines/2011/7/109891-algorithmic-composition/fulltext', '1', '0', 'poindontcare', '9/26/2016 3:16']\n",
      "\n",
      "\n",
      "['12578979', 'How the Data Vault Enables the Next-Gen Data Warehouse and Data Lake', 'https://www.talend.com/blog/2016/05/12/talend-and-Â\\x93the-data-vaultÂ\\x94', '1', '0', 'markgainor1', '9/26/2016 3:14']\n",
      "\n",
      "\n",
      "Rows:     293120\n",
      "Columns:  7\n"
     ]
    }
   ],
   "source": [
    "from csv import reader\n",
    "\n",
    "file = open('../my_datasets/HN_posts_year_to_Sep_26_2016.csv', encoding='utf8')\n",
    "read_file = reader(file)\n",
    "hn = list(read_file)\n",
    "\n",
    "explore_data(hn,0,6,True)"
   ]
  },
  {
   "cell_type": "code",
   "execution_count": 37,
   "id": "0284710c",
   "metadata": {},
   "outputs": [
    {
     "name": "stdout",
     "output_type": "stream",
     "text": [
      "['12579008', 'You have two days to comment if you want stem cells to be classified as your own', 'http://www.regulations.gov/document?D=FDA-2015-D-3719-0018', '1', '0', 'altstar', '9/26/2016 3:26']\n",
      "\n",
      "\n",
      "['12579005', 'SQLAR  the SQLite Archiver', 'https://www.sqlite.org/sqlar/doc/trunk/README.md', '1', '0', 'blacksqr', '9/26/2016 3:24']\n",
      "\n",
      "\n",
      "['12578997', 'What if we just printed a flatscreen television on the side of our boxes?', 'https://medium.com/vanmoof/our-secrets-out-f21c1f03fdc8#.ietxmez43', '1', '0', 'pavel_lishin', '9/26/2016 3:19']\n",
      "\n",
      "\n",
      "['12578989', 'algorithmic music', 'http://cacm.acm.org/magazines/2011/7/109891-algorithmic-composition/fulltext', '1', '0', 'poindontcare', '9/26/2016 3:16']\n",
      "\n",
      "\n",
      "['12578979', 'How the Data Vault Enables the Next-Gen Data Warehouse and Data Lake', 'https://www.talend.com/blog/2016/05/12/talend-and-Â\\x93the-data-vaultÂ\\x94', '1', '0', 'markgainor1', '9/26/2016 3:14']\n",
      "\n",
      "\n"
     ]
    }
   ],
   "source": [
    "headers = hn[0]\n",
    "hn = hn[1:]\n",
    "explore_data(hn,0,5)"
   ]
  },
  {
   "cell_type": "markdown",
   "id": "7e53dc61",
   "metadata": {},
   "source": [
    "### Number of each type of post on HN"
   ]
  },
  {
   "cell_type": "code",
   "execution_count": 7,
   "id": "c6c439a9",
   "metadata": {},
   "outputs": [
    {
     "name": "stdout",
     "output_type": "stream",
     "text": [
      "ask_posts: 9139 \n",
      " show_posts: 10158\n",
      "other_posts: 273822\n"
     ]
    }
   ],
   "source": [
    "ask_posts = []\n",
    "show_posts = []\n",
    "other_posts = []\n",
    "\n",
    "for row in hn:\n",
    "    title = row[1]\n",
    "    if title.lower().startswith('ask hn'):\n",
    "        ask_posts.append(row)\n",
    "    elif title.lower().startswith('show hn'):\n",
    "        show_posts.append(row)\n",
    "    else:\n",
    "        other_posts.append(row)\n",
    "\n",
    "print('ask_posts:', len(ask_posts)) \n",
    "print('show_posts:', len(show_posts))\n",
    "print('other_posts:',len(other_posts))"
   ]
  },
  {
   "cell_type": "markdown",
   "id": "ef1a3ee8",
   "metadata": {},
   "source": [
    "### See if `ask_posts` or `show_posts` receive more comments on average"
   ]
  },
  {
   "cell_type": "code",
   "execution_count": 10,
   "id": "c6e792b4",
   "metadata": {},
   "outputs": [
    {
     "name": "stdout",
     "output_type": "stream",
     "text": [
      "Average comments on ask posts:  10.39\n",
      "Average comments on show posts:  4.89\n"
     ]
    }
   ],
   "source": [
    "total_ask_comments = 0\n",
    "\n",
    "for row in ask_posts:\n",
    "    num_comment = int(row[4])\n",
    "    total_ask_comments += num_comment\n",
    "\n",
    "avg_ask_comments = round(total_ask_comments / len(ask_posts), 2)\n",
    "print('Average comments on ask posts: ', avg_ask_comments)\n",
    "\n",
    "total_show_comments = 0\n",
    "\n",
    "for row in show_posts:\n",
    "    num_comment = int(row[4])\n",
    "    total_show_comments += num_comment\n",
    "    \n",
    "avg_show_comments = round(total_show_comments / len(show_posts), 2)\n",
    "print('Average comments on show posts: ', avg_show_comments)"
   ]
  },
  {
   "cell_type": "markdown",
   "id": "3abc429d",
   "metadata": {},
   "source": [
    "- It seems that on average **ask posts** receive a little more than two times more comments than **show posts**"
   ]
  },
  {
   "cell_type": "markdown",
   "id": "60d1bf60",
   "metadata": {},
   "source": [
    "### Overall hourly distribution of number of posts and comments"
   ]
  },
  {
   "cell_type": "code",
   "execution_count": 18,
   "id": "a04231d2",
   "metadata": {
    "scrolled": true
   },
   "outputs": [
    {
     "name": "stdout",
     "output_type": "stream",
     "text": [
      "Number of posts by hour=  [(0, 301), (1, 282), (2, 269), (3, 271), (4, 243), (5, 209), (6, 234), (7, 226), (8, 257), (9, 222), (10, 282), (11, 312), (12, 342), (13, 444), (14, 513), (15, 646), (16, 579), (17, 587), (18, 614), (19, 552), (20, 510), (21, 518), (22, 383), (23, 343)] \n",
      "\n",
      "Number of comments by hour=  [(0, 2277), (1, 2089), (2, 2996), (3, 2154), (4, 2360), (5, 1838), (6, 1587), (7, 1585), (8, 2362), (9, 1477), (10, 3013), (11, 2797), (12, 4234), (13, 7245), (14, 4972), (15, 18525), (16, 4466), (17, 5547), (18, 4877), (19, 3954), (20, 4462), (21, 4500), (22, 3372), (23, 2297)]\n"
     ]
    }
   ],
   "source": [
    "import datetime as dt\n",
    "\n",
    "result_list = []\n",
    "\n",
    "for row in ask_posts:\n",
    "    creat_time = row[6]\n",
    "    num_comment = int(row[4])\n",
    "    result_list.append([creat_time, num_comment])\n",
    "    \n",
    "counts_by_hour = {}\n",
    "comments_by_hour = {}\n",
    "\n",
    "for row in result_list:\n",
    "    creat_time = row[0]\n",
    "    creat_time = dt.datetime.strptime(creat_time, \"%m/%d/%Y %H:%M\")\n",
    "    hour = creat_time.hour\n",
    "    if hour not in counts_by_hour:\n",
    "        counts_by_hour[hour] = 1\n",
    "        comments_by_hour[hour] = row[1]\n",
    "    else:\n",
    "        counts_by_hour[hour] += 1\n",
    "        comments_by_hour[hour] += row[1]\n",
    "\n",
    "print('Number of posts by hour= ', sorted(counts_by_hour.items()), '\\n')\n",
    "print('Number of comments by hour= ', sorted(comments_by_hour.items()))"
   ]
  },
  {
   "cell_type": "code",
   "execution_count": 23,
   "id": "6bfb1f4f",
   "metadata": {},
   "outputs": [
    {
     "name": "stdout",
     "output_type": "stream",
     "text": [
      "Average number of comments per post by hour=  [[0, 7.56], [1, 7.41], [2, 11.14], [3, 7.95], [4, 9.71], [5, 8.79], [6, 6.78], [7, 7.01], [8, 9.19], [9, 6.65], [10, 10.68], [11, 8.96], [12, 12.38], [13, 16.32], [14, 9.69], [15, 28.68], [16, 7.71], [17, 9.45], [18, 7.94], [19, 7.16], [20, 8.75], [21, 8.69], [22, 8.8], [23, 6.7]]\n"
     ]
    }
   ],
   "source": [
    "avg_by_hour = []\n",
    "\n",
    "for key in counts_by_hour:\n",
    "    avg_by_hour.append([key, round(comments_by_hour[key] / counts_by_hour[key], 2)])\n",
    "\n",
    "print(\"Average number of comments per post by hour= \", sorted(avg_by_hour))"
   ]
  },
  {
   "cell_type": "markdown",
   "id": "f24ac780",
   "metadata": {},
   "source": [
    "## Average number of comments on `Ask Posts` by hour"
   ]
  },
  {
   "cell_type": "code",
   "execution_count": 36,
   "id": "917cda4f",
   "metadata": {},
   "outputs": [
    {
     "name": "stdout",
     "output_type": "stream",
     "text": [
      "Swapped average by hour =  [[11.14, 2], [7.41, 1], [8.8, 22], [8.69, 21], [7.16, 19], [9.45, 17], [28.68, 15], [9.69, 14], [16.32, 13], [8.96, 11], [10.68, 10], [6.65, 9], [7.01, 7], [7.95, 3], [6.7, 23], [8.75, 20], [7.71, 16], [9.19, 8], [7.56, 0], [7.94, 18], [12.38, 12], [9.71, 4], [6.78, 6], [8.79, 5]]\n",
      "\n",
      "\n",
      "Top 5 Hours for Ask Post Comments:\n",
      "----------------------------------\n",
      "21:00 = 28.68 average comments per post\n",
      "19:00 = 16.32 average comments per post\n",
      "18:00 = 12.38 average comments per post\n",
      "08:00 = 11.14 average comments per post\n",
      "16:00 = 10.68 average comments per post\n",
      "10:00 = 9.71 average comments per post\n",
      "20:00 = 9.69 average comments per post\n",
      "23:00 = 9.45 average comments per post\n",
      "14:00 = 9.19 average comments per post\n",
      "17:00 = 8.96 average comments per post\n",
      "04:00 = 8.8 average comments per post\n",
      "11:00 = 8.79 average comments per post\n",
      "02:00 = 8.75 average comments per post\n",
      "03:00 = 8.69 average comments per post\n",
      "09:00 = 7.95 average comments per post\n",
      "00:00 = 7.94 average comments per post\n",
      "22:00 = 7.71 average comments per post\n",
      "06:00 = 7.56 average comments per post\n",
      "07:00 = 7.41 average comments per post\n",
      "01:00 = 7.16 average comments per post\n",
      "13:00 = 7.01 average comments per post\n",
      "12:00 = 6.78 average comments per post\n",
      "05:00 = 6.7 average comments per post\n",
      "15:00 = 6.65 average comments per post\n"
     ]
    }
   ],
   "source": [
    "swap_avg_by_hour = []\n",
    "\n",
    "for row in avg_by_hour:\n",
    "    swap_avg_by_hour.append([row[1],row[0]])\n",
    "\n",
    "print(\"Swapped average by hour = \", swap_avg_by_hour)\n",
    "print('\\n')\n",
    "sorted_swap = sorted(swap_avg_by_hour, reverse=True)\n",
    "print(\"Top 5 Hours for Ask Post Comments:\")\n",
    "print(\"----------------------------------\")      \n",
    "\n",
    "for row in sorted_swap:\n",
    "    avg_comments = row[0]\n",
    "    h = str(row[1])\n",
    "    EDT_to_CEST = dt.timedelta(hours=6)\n",
    "    hour = dt.datetime.strptime(h, '%H') + EDT_to_CEST \n",
    "    hour = hour.strftime('%H:%M')\n",
    "    print(\"{} = {} average comments per post\".format(hour,avg_comments))"
   ]
  },
  {
   "cell_type": "markdown",
   "id": "310a2c8a",
   "metadata": {},
   "source": [
    "- According to this data, posts created **during 21,19,18,8,16 hour** in the day, receive on average more comments. (Time have been changed from Eastern Time to Central Europe Summer Time)\n"
   ]
  },
  {
   "cell_type": "markdown",
   "id": "c68eb6bc",
   "metadata": {},
   "source": [
    "#### Ideas to dig deeper:\n",
    "1. Check the time distribution on each day of week\n",
    "2. Visualize the time distributions\n"
   ]
  }
 ],
 "metadata": {
  "kernelspec": {
   "display_name": "Python 3 (ipykernel)",
   "language": "python",
   "name": "python3"
  },
  "language_info": {
   "codemirror_mode": {
    "name": "ipython",
    "version": 3
   },
   "file_extension": ".py",
   "mimetype": "text/x-python",
   "name": "python",
   "nbconvert_exporter": "python",
   "pygments_lexer": "ipython3",
   "version": "3.9.0"
  }
 },
 "nbformat": 4,
 "nbformat_minor": 5
}
