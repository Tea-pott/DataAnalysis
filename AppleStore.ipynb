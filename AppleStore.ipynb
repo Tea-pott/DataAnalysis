{
 "cells": [
  {
   "cell_type": "markdown",
   "id": "35e9468e",
   "metadata": {},
   "source": [
    "# App store \n",
    "\n",
    "- Finding out about on demand applications to develope for Android and later on for iOS\n",
    "- Dataset sources for [App Store](https://www.kaggle.com/ramamet4/app-store-apple-data-set-10k-apps) and [Google Play](https://www.kaggle.com/lava18/google-play-store-apps)\n",
    "- The goal to clean and seprate the data that we are interested in (Free and English) and then analyze it to gain insigts  "
   ]
  },
  {
   "cell_type": "markdown",
   "id": "341cf367",
   "metadata": {},
   "source": [
    "## Cleaning \n",
    "\n",
    "1.Cleaning and seperating the data for free English applications in Google Play and App Store"
   ]
  },
  {
   "cell_type": "code",
   "execution_count": 1,
   "id": "cd034a9a",
   "metadata": {},
   "outputs": [],
   "source": [
    "def explore_data(dataset, start, end, row_column_count = False):\n",
    "\n",
    "    dataset_slice = dataset[start:end]\n",
    "    for row in dataset_slice:\n",
    "        print(row)\n",
    "        print('\\n')\n",
    "    if row_column_count:\n",
    "        print('Rows:    ',len(dataset))\n",
    "        print('Columns: ',len(dataset[0]))"
   ]
  },
  {
   "cell_type": "code",
   "execution_count": 2,
   "id": "dee2ba4f",
   "metadata": {},
   "outputs": [],
   "source": [
    "file = open('../my_datasets/AppleStore.csv', encoding='utf8')\n",
    "file2 = open('../my_datasets/googleplaystore.csv', encoding='utf8')\n",
    "from csv import reader\n",
    "\n",
    "read_file = reader(file)\n",
    "read_file2 = reader(file2)\n",
    "\n",
    "ios_data = list(read_file)\n",
    "google_data = list(read_file2)"
   ]
  },
  {
   "cell_type": "code",
   "execution_count": 3,
   "id": "3deafbdd",
   "metadata": {},
   "outputs": [
    {
     "name": "stdout",
     "output_type": "stream",
     "text": [
      "['Xposed Wi-Fi-Pwd', 'PERSONALIZATION', '3.5', '1042', '404k', '100,000+', 'Free', '0', 'Everyone', 'Personalization', 'August 5, 2014', '3.0.0', '4.0.3 and up']\n",
      "\n",
      "\n",
      "['Life Made WI-Fi Touchscreen Photo Frame', '1.9', '19', '3.0M', '1,000+', 'Free', '0', 'Everyone', '', 'February 11, 2018', '1.0.19', '4.0 and up']\n",
      "\n",
      "\n",
      "['osmino Wi-Fi: free WiFi', 'TOOLS', '4.2', '134203', '4.1M', '10,000,000+', 'Free', '0', 'Everyone', 'Tools', 'August 7, 2018', '6.06.14', '4.4 and up']\n",
      "\n",
      "\n",
      "Rows:     10842\n",
      "Columns:  13\n"
     ]
    }
   ],
   "source": [
    "explore_data(google_data, 10472, 10475, row_column_count=True)"
   ]
  },
  {
   "cell_type": "markdown",
   "id": "b96e1565",
   "metadata": {},
   "source": [
    "- In the cell below, the data point that we found to be faluty (from discussion section of the dataset) is removed from Google Play dataset. "
   ]
  },
  {
   "cell_type": "code",
   "execution_count": 4,
   "id": "89f28e28",
   "metadata": {},
   "outputs": [],
   "source": [
    "del google_data[10473]    #Just once otherwise you deleter more than one data"
   ]
  },
  {
   "cell_type": "markdown",
   "id": "5bbd401a",
   "metadata": {},
   "source": [
    "- There are also plenty of duplicate entries in the Google Play dataset that need to removed (example below).\n",
    "- I am going to check which entry is most recent and remove the rest (based on the number of reviews). "
   ]
  },
  {
   "cell_type": "code",
   "execution_count": 5,
   "id": "d256bcdf",
   "metadata": {},
   "outputs": [
    {
     "name": "stdout",
     "output_type": "stream",
     "text": [
      "Duplicate Apps:  1181\n",
      "2546 = ['Instagram', 'SOCIAL', '4.5', '66577313', 'Varies with device', '1,000,000,000+', 'Free', '0', 'Teen', 'Social', 'July 31, 2018', 'Varies with device', 'Varies with device']\n",
      "\n",
      "\n",
      "2605 = ['Instagram', 'SOCIAL', '4.5', '66577446', 'Varies with device', '1,000,000,000+', 'Free', '0', 'Teen', 'Social', 'July 31, 2018', 'Varies with device', 'Varies with device']\n",
      "\n",
      "\n",
      "2612 = ['Instagram', 'SOCIAL', '4.5', '66577313', 'Varies with device', '1,000,000,000+', 'Free', '0', 'Teen', 'Social', 'July 31, 2018', 'Varies with device', 'Varies with device']\n",
      "\n",
      "\n",
      "3910 = ['Instagram', 'SOCIAL', '4.5', '66509917', 'Varies with device', '1,000,000,000+', 'Free', '0', 'Teen', 'Social', 'July 31, 2018', 'Varies with device', 'Varies with device']\n",
      "\n",
      "\n"
     ]
    }
   ],
   "source": [
    "unique_apps = []\n",
    "duplicate_apps = []\n",
    "\n",
    "for app in google_data[1:]:\n",
    "    name = app[0]\n",
    "    if name in unique_apps:\n",
    "        duplicate_apps.append(name)\n",
    "    else:\n",
    "        unique_apps.append(name)\n",
    "            \n",
    "print('Duplicate Apps: ', len(duplicate_apps))\n",
    "index = 0\n",
    "for app in google_data[1:]:\n",
    "    name = app[0]\n",
    "    index += 1\n",
    "    if name == 'Instagram':\n",
    "        print(index,'=', app)\n",
    "        print('\\n')"
   ]
  },
  {
   "cell_type": "markdown",
   "id": "f1d7f914",
   "metadata": {},
   "source": [
    "Below, I stored the most recent record of every app from the data.\n",
    "- By comparing the number of reviews and picking the one that has the most (in duplicates). Rest of data in stored as is."
   ]
  },
  {
   "cell_type": "code",
   "execution_count": 6,
   "id": "af26f647",
   "metadata": {},
   "outputs": [
    {
     "name": "stdout",
     "output_type": "stream",
     "text": [
      "Length of reviews_max:  9659\n"
     ]
    }
   ],
   "source": [
    "reviews_max = {}\n",
    "\n",
    "for app in google_data[1:]:\n",
    "    name = app[0]\n",
    "    n_reviews = float(app[3])\n",
    "    \n",
    "    if name not in reviews_max:\n",
    "        reviews_max[name] = n_reviews\n",
    "    elif name in reviews_max and reviews_max[name]<n_reviews:\n",
    "        reviews_max[name] = n_reviews\n",
    "\n",
    "print(\"Length of reviews_max: \", len(reviews_max))\n"
   ]
  },
  {
   "cell_type": "markdown",
   "id": "3441f7ad",
   "metadata": {},
   "source": [
    "- To clean the data from duplicates, below the code checks whether the number of reviews of each app is equal to one recorded in `reviews_max` dictionary from previous cell, and appends to a new list. The new list is duplicate-free.   "
   ]
  },
  {
   "cell_type": "code",
   "execution_count": 7,
   "id": "5020b562",
   "metadata": {},
   "outputs": [
    {
     "name": "stdout",
     "output_type": "stream",
     "text": [
      "Google_clean:  9659\n",
      "already_added:  9659\n"
     ]
    }
   ],
   "source": [
    "google_clean = []\n",
    "already_added = []\n",
    "\n",
    "for app in google_data[1:]:\n",
    "    name = app[0]\n",
    "    n_reviews = float(app[3])\n",
    "    \n",
    "    if name not in already_added and n_reviews == reviews_max[name]:\n",
    "        google_clean.append(app)\n",
    "        already_added.append(name)\n",
    "        \n",
    "\n",
    "print(\"Google_clean: \", len(google_clean))\n",
    "print(\"already_added: \", len(already_added))"
   ]
  },
  {
   "cell_type": "markdown",
   "id": "cfc2d7fb",
   "metadata": {},
   "source": [
    "- Now that the data is clean, we want only the apps that are English and Free. That's the data we are interested in.\n",
    "- To check if they are English, we iterate the characters of the name for each app, and if it has maximum of three characters that their ASCII number is below 127. Of course we are going to lose the apps with 4 and more ASCII characters above 127 but we still get most of English app records."
   ]
  },
  {
   "cell_type": "code",
   "execution_count": 8,
   "id": "3a4ba318",
   "metadata": {},
   "outputs": [],
   "source": [
    "def english_check(name):\n",
    "    counter = 0\n",
    "    for char in name:\n",
    "        if ord(char)>127:\n",
    "            counter +=1\n",
    "        if counter>3:\n",
    "            return False\n",
    "        \n",
    "    return True"
   ]
  },
  {
   "cell_type": "code",
   "execution_count": 9,
   "id": "9f788faa",
   "metadata": {},
   "outputs": [
    {
     "name": "stdout",
     "output_type": "stream",
     "text": [
      "Google_eng:  9614\n",
      "ios_eng:  7197\n"
     ]
    }
   ],
   "source": [
    "ios_eng = []\n",
    "google_eng = []\n",
    "\n",
    "for app in google_clean:\n",
    "    name = app[0]\n",
    "    if english_check(name):\n",
    "        google_eng.append(app)\n",
    "        \n",
    "for app in ios_data[1:]:\n",
    "    name = app[0]\n",
    "    if english_check(name):\n",
    "        ios_eng.append(app)\n",
    "        \n",
    "print('Google_eng: ', len(google_eng))\n",
    "print('ios_eng: ', len(ios_eng))"
   ]
  },
  {
   "cell_type": "code",
   "execution_count": 10,
   "id": "f33a14ae",
   "metadata": {},
   "outputs": [],
   "source": [
    "# from csv import writer\n",
    "\n",
    "# with open('ios_clean.csv', 'w',encoding='utf8') as f: \n",
    "#     write = writer(f) \n",
    "#     write.writerow(ios_data[0])\n",
    "#     for app in ios_eng:\n",
    "#         write.writerow(app)\n",
    "\n",
    "# with open('google_clean_eng.csv', 'w',encoding='utf8') as f: \n",
    "#     write = writer(f) \n",
    "#     write.writerow(google_data[0])\n",
    "#     for app in google_clean_eng:\n",
    "#         write.writerow(app)"
   ]
  },
  {
   "cell_type": "markdown",
   "id": "ee5e7b6c",
   "metadata": {},
   "source": [
    "- In the cell below, we append only the free apps from our data that contained only English records."
   ]
  },
  {
   "cell_type": "code",
   "execution_count": 17,
   "id": "06ad41d1",
   "metadata": {},
   "outputs": [
    {
     "name": "stdout",
     "output_type": "stream",
     "text": [
      "ios_eng:  7197 Free:  4056\n",
      "google_eng:  9614 Free:  8863\n"
     ]
    }
   ],
   "source": [
    "ios_eng_free = []\n",
    "google_eng_free = []\n",
    "\n",
    "for app in google_eng:\n",
    "    if app[6] == 'Free':\n",
    "        google_eng_free.append(app)\n",
    "        \n",
    "for app in ios_eng:\n",
    "    if float(app[5]) == 0:\n",
    "        ios_eng_free.append(app)\n",
    "        \n",
    "print('ios_eng: ', len(ios_eng),'Free: ', len(ios_eng_free))\n",
    "print('google_eng: ', len(google_eng), 'Free: ', len(google_eng_free))"
   ]
  },
  {
   "cell_type": "markdown",
   "id": "dcc2ba2c",
   "metadata": {},
   "source": [
    "# Genre Frequency Tables \n",
    "\n",
    "## 1. App Store"
   ]
  },
  {
   "cell_type": "code",
   "execution_count": 24,
   "id": "26f368fd",
   "metadata": {},
   "outputs": [],
   "source": [
    "def freq_table(dataset, index):\n",
    "    \"\"\"Any column(index) of a Dataset to frequency table (dict)\"\"\"\n",
    "    \n",
    "    dataset_ft = {}\n",
    "    for data in dataset:\n",
    "        column = data[index]\n",
    "        if column in dataset_ft:\n",
    "            dataset_ft[column] += 1\n",
    "        else:\n",
    "            dataset_ft[column] = 1\n",
    "    \n",
    "    sum_column = 0\n",
    "    for key in dataset_ft:\n",
    "        sum_column += dataset_ft[key]\n",
    "        \n",
    "    for key in dataset_ft:\n",
    "        dataset_ft[key] = (dataset_ft[key]/sum_column)*100\n",
    "        dataset_ft[key] = round(dataset_ft[key],2)\n",
    "        \n",
    "    return dataset_ft"
   ]
  },
  {
   "cell_type": "code",
   "execution_count": 33,
   "id": "afdf907b",
   "metadata": {},
   "outputs": [],
   "source": [
    "def display_table(dataset, index):\n",
    "    table = freq_table(dataset, index)\n",
    "    table_display = []\n",
    "    for key in table:\n",
    "        key_val_as_tuple = (table[key], key)\n",
    "        table_display.append(key_val_as_tuple)\n",
    "\n",
    "    table_sorted = sorted(table_display, reverse = True)\n",
    "    for entry in table_sorted:\n",
    "        print(entry[1], ':', entry[0])"
   ]
  },
  {
   "cell_type": "code",
   "execution_count": 47,
   "id": "8a425a36",
   "metadata": {
    "scrolled": true
   },
   "outputs": [
    {
     "name": "stdout",
     "output_type": "stream",
     "text": [
      "IOS_Eng_Free - Prime Genre: \n",
      "\n",
      "Games : 55.65\n",
      "Entertainment : 8.23\n",
      "Photo & Video : 4.12\n",
      "Social Networking : 3.53\n",
      "Education : 3.25\n",
      "Shopping : 2.98\n",
      "Utilities : 2.69\n",
      "Lifestyle : 2.32\n",
      "Finance : 2.07\n",
      "Sports : 1.95\n",
      "Health & Fitness : 1.87\n",
      "Music : 1.65\n",
      "Book : 1.63\n",
      "Productivity : 1.53\n",
      "News : 1.43\n",
      "Travel : 1.38\n",
      "Food & Drink : 1.06\n",
      "Weather : 0.76\n",
      "Reference : 0.49\n",
      "Navigation : 0.49\n",
      "Business : 0.49\n",
      "Catalogs : 0.22\n",
      "Medical : 0.2\n"
     ]
    }
   ],
   "source": [
    "print('IOS_Eng_Free - Prime Genre: \\n')\n",
    "display_table(ios_eng_free, 12)\n",
    "\n",
    "# print('Google_Eng_Free - Genres: \\n')\n",
    "# display_table(google_eng_free, 9)"
   ]
  },
  {
   "cell_type": "code",
   "execution_count": 42,
   "id": "e399cf13",
   "metadata": {},
   "outputs": [
    {
     "data": {
      "text/plain": [
       "[(67447.9, 'Reference'),\n",
       " (56482.03, 'Music'),\n",
       " (53078.2, 'Social Networking'),\n",
       " (47220.94, 'Weather'),\n",
       " (27249.89, 'Photo & Video'),\n",
       " (25972.05, 'Navigation'),\n",
       " (20216.02, 'Travel'),\n",
       " (20179.09, 'Food & Drink'),\n",
       " (20128.97, 'Sports'),\n",
       " (19952.32, 'Health & Fitness'),\n",
       " (19053.89, 'Productivity'),\n",
       " (18924.69, 'Games'),\n",
       " (18746.68, 'Shopping'),\n",
       " (15892.72, 'News'),\n",
       " (14010.1, 'Utilities'),\n",
       " (13522.26, 'Finance'),\n",
       " (10822.96, 'Entertainment'),\n",
       " (8978.31, 'Lifestyle'),\n",
       " (8498.33, 'Book'),\n",
       " (6367.8, 'Business'),\n",
       " (6266.33, 'Education'),\n",
       " (1779.56, 'Catalogs'),\n",
       " (459.75, 'Medical')]"
      ]
     },
     "execution_count": 42,
     "metadata": {},
     "output_type": "execute_result"
    }
   ],
   "source": [
    "Freq_Table = freq_table(ios_eng_free, 12)\n",
    "genre_avg_num_rate = []\n",
    "\n",
    "for genre in Freq_Table:\n",
    "    total = 0\n",
    "    len_genre = 0\n",
    "    \n",
    "    for app in ios_eng_free:\n",
    "        genre_app = app[12]\n",
    "        if genre_app == genre:\n",
    "            rate_num = float(app[6])\n",
    "            total += rate_num\n",
    "            len_genre += 1\n",
    "    avg_num_rate = round(total/len_genre,2)\n",
    "    genre_avg_num_rate.append((avg_num_rate, genre))\n",
    "\n",
    "sorted(genre_avg_num_rate,reverse=True)"
   ]
  },
  {
   "cell_type": "markdown",
   "id": "3ddfc1a0",
   "metadata": {},
   "source": [
    "### Recommendation for App Store \n",
    "- according to number of apps in each genre (English, Free) and number of ratings on average (proxy for number of installs):\n",
    "\n",
    "1. **Weather app** (There are few of them, yet there are lots of people who use them, so a cute and accurate weather app could be something to consider.)\n",
    "\n",
    "2. **Hybrid reference/photo app** like something that could translate the name of objects in a photo. Like you want find the name of an object without knowing it in your language or typing it in the translator. "
   ]
  },
  {
   "cell_type": "markdown",
   "id": "1e4edeb1",
   "metadata": {},
   "source": [
    "## 2. Google Play"
   ]
  },
  {
   "cell_type": "code",
   "execution_count": 48,
   "id": "76bf7d1a",
   "metadata": {},
   "outputs": [
    {
     "name": "stdout",
     "output_type": "stream",
     "text": [
      "Google_Eng_Free - Category: \n",
      "\n",
      "FAMILY : 18.9\n",
      "GAME : 9.73\n",
      "TOOLS : 8.46\n",
      "BUSINESS : 4.59\n",
      "LIFESTYLE : 3.9\n",
      "PRODUCTIVITY : 3.89\n",
      "FINANCE : 3.7\n",
      "MEDICAL : 3.53\n",
      "SPORTS : 3.4\n",
      "PERSONALIZATION : 3.32\n",
      "COMMUNICATION : 3.24\n",
      "HEALTH_AND_FITNESS : 3.08\n",
      "PHOTOGRAPHY : 2.94\n",
      "NEWS_AND_MAGAZINES : 2.8\n",
      "SOCIAL : 2.66\n",
      "TRAVEL_AND_LOCAL : 2.34\n",
      "SHOPPING : 2.25\n",
      "BOOKS_AND_REFERENCE : 2.14\n",
      "DATING : 1.86\n",
      "VIDEO_PLAYERS : 1.79\n",
      "MAPS_AND_NAVIGATION : 1.4\n",
      "FOOD_AND_DRINK : 1.24\n",
      "EDUCATION : 1.16\n",
      "ENTERTAINMENT : 0.96\n",
      "LIBRARIES_AND_DEMO : 0.94\n",
      "AUTO_AND_VEHICLES : 0.93\n",
      "HOUSE_AND_HOME : 0.82\n",
      "WEATHER : 0.8\n",
      "EVENTS : 0.71\n",
      "PARENTING : 0.65\n",
      "ART_AND_DESIGN : 0.64\n",
      "COMICS : 0.62\n",
      "BEAUTY : 0.6\n"
     ]
    }
   ],
   "source": [
    "print('Google_Eng_Free - Category: \\n')\n",
    "display_table(google_eng_free, 1)"
   ]
  },
  {
   "cell_type": "code",
   "execution_count": 46,
   "id": "93392bab",
   "metadata": {},
   "outputs": [
    {
     "data": {
      "text/plain": [
       "[(38456119.17, 'COMMUNICATION'),\n",
       " (24727872.45, 'VIDEO_PLAYERS'),\n",
       " (23253652.13, 'SOCIAL'),\n",
       " (17840110.4, 'PHOTOGRAPHY'),\n",
       " (16787331.34, 'PRODUCTIVITY'),\n",
       " (15588015.6, 'GAME'),\n",
       " (13984077.71, 'TRAVEL_AND_LOCAL'),\n",
       " (11640705.88, 'ENTERTAINMENT'),\n",
       " (10801391.3, 'TOOLS'),\n",
       " (9549178.47, 'NEWS_AND_MAGAZINES'),\n",
       " (8767811.89, 'BOOKS_AND_REFERENCE'),\n",
       " (7036877.31, 'SHOPPING'),\n",
       " (5201482.61, 'PERSONALIZATION'),\n",
       " (5074486.2, 'WEATHER'),\n",
       " (4188821.99, 'HEALTH_AND_FITNESS'),\n",
       " (4056941.77, 'MAPS_AND_NAVIGATION'),\n",
       " (3697848.17, 'FAMILY'),\n",
       " (3638640.14, 'SPORTS'),\n",
       " (1986335.09, 'ART_AND_DESIGN'),\n",
       " (1924897.74, 'FOOD_AND_DRINK'),\n",
       " (1833495.15, 'EDUCATION'),\n",
       " (1712290.15, 'BUSINESS'),\n",
       " (1437816.27, 'LIFESTYLE'),\n",
       " (1387692.48, 'FINANCE'),\n",
       " (1331540.56, 'HOUSE_AND_HOME'),\n",
       " (854028.83, 'DATING'),\n",
       " (817657.27, 'COMICS'),\n",
       " (647317.82, 'AUTO_AND_VEHICLES'),\n",
       " (638503.73, 'LIBRARIES_AND_DEMO'),\n",
       " (542603.62, 'PARENTING'),\n",
       " (513151.89, 'BEAUTY'),\n",
       " (253542.22, 'EVENTS'),\n",
       " (120550.62, 'MEDICAL')]"
      ]
     },
     "execution_count": 46,
     "metadata": {},
     "output_type": "execute_result"
    }
   ],
   "source": [
    "Freq_category = freq_table(google_eng_free, 1)\n",
    "category_avg_n_install = []\n",
    "\n",
    "for category in Freq_category:\n",
    "    total = 0\n",
    "    len_category = 0\n",
    "    \n",
    "    for app in google_eng_free:\n",
    "        category_app = app[1]\n",
    "        if category_app == category:\n",
    "            install_n = app[5]\n",
    "            install_n = install_n.replace('+','')\n",
    "            install_n = float(install_n.replace(',',''))\n",
    "            total += install_n\n",
    "            len_category += 1\n",
    "    avg_num_install = round(total/len_category,2)\n",
    "    category_avg_n_install.append((avg_num_install, category))\n",
    "\n",
    "sorted(category_avg_n_install,reverse=True)"
   ]
  },
  {
   "cell_type": "markdown",
   "id": "ad45ac8d",
   "metadata": {},
   "source": [
    "### Recommendation for potential genres for Google Play \n",
    "- To be further developed for iOS\n",
    "- according to number of apps in each category (English, Free) and number of installs:\n",
    "\n",
    "1. Productivity\n",
    "2. Photography"
   ]
  }
 ],
 "metadata": {
  "kernelspec": {
   "display_name": "Python 3 (ipykernel)",
   "language": "python",
   "name": "python3"
  },
  "language_info": {
   "codemirror_mode": {
    "name": "ipython",
    "version": 3
   },
   "file_extension": ".py",
   "mimetype": "text/x-python",
   "name": "python",
   "nbconvert_exporter": "python",
   "pygments_lexer": "ipython3",
   "version": "3.9.0"
  }
 },
 "nbformat": 4,
 "nbformat_minor": 5
}
